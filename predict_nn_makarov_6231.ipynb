{
 "cells": [
  {
   "cell_type": "markdown",
   "metadata": {},
   "source": [
    "\"Машинное обучение для задач ИБ\"\n",
    "\n",
    "Лабораторная работа №1. \n",
    "\n",
    "Макаров Андрей Романович 6231.\n",
    "\n",
    "\n",
    "В данной работе хотел сравнить нейросеть на базе керасс с СК-леарн-классификаторами"
   ]
  },
  {
   "cell_type": "code",
   "execution_count": 1,
   "metadata": {},
   "outputs": [
    {
     "name": "stderr",
     "output_type": "stream",
     "text": [
      "2022-10-18 18:56:13.091410: I tensorflow/core/platform/cpu_feature_guard.cc:193] This TensorFlow binary is optimized with oneAPI Deep Neural Network Library (oneDNN) to use the following CPU instructions in performance-critical operations:  AVX2 FMA\n",
      "To enable them in other operations, rebuild TensorFlow with the appropriate compiler flags.\n",
      "2022-10-18 18:56:13.203588: E tensorflow/stream_executor/cuda/cuda_blas.cc:2981] Unable to register cuBLAS factory: Attempting to register factory for plugin cuBLAS when one has already been registered\n",
      "2022-10-18 18:56:13.658049: W tensorflow/stream_executor/platform/default/dso_loader.cc:64] Could not load dynamic library 'libnvinfer.so.7'; dlerror: libnvinfer.so.7: cannot open shared object file: No such file or directory\n",
      "2022-10-18 18:56:13.658122: W tensorflow/stream_executor/platform/default/dso_loader.cc:64] Could not load dynamic library 'libnvinfer_plugin.so.7'; dlerror: libnvinfer_plugin.so.7: cannot open shared object file: No such file or directory\n",
      "2022-10-18 18:56:13.658129: W tensorflow/compiler/tf2tensorrt/utils/py_utils.cc:38] TF-TRT Warning: Cannot dlopen some TensorRT libraries. If you would like to use Nvidia GPU with TensorRT, please make sure the missing libraries mentioned above are installed properly.\n"
     ]
    }
   ],
   "source": [
    "#лень удалать ненужные импорты:)\n",
    "import numpy as np\n",
    "import pandas as pd \n",
    "import seaborn as sns \n",
    "import matplotlib.pyplot as plt \n",
    "import sklearn, sklearn.model_selection\n",
    "\n",
    "from sklearn.naive_bayes import GaussianNB\n",
    "from sklearn.tree import DecisionTreeClassifier\n",
    "from sklearn.preprocessing import StandardScaler\n",
    "from sklearn.neighbors import KNeighborsClassifier\n",
    "from sklearn.linear_model import LogisticRegression\n",
    "from sklearn.ensemble import RandomForestClassifier\n",
    "from sklearn.linear_model import LinearRegression\n",
    "from sklearn.linear_model import Lasso\n",
    "from sklearn.linear_model import Ridge\n",
    "from sklearn.linear_model import ElasticNet\n",
    "\n",
    "import tensorflow as tf\n",
    "from sklearn.preprocessing import StandardScaler \n",
    "from sklearn.pipeline import Pipeline\n",
    "from sklearn.preprocessing import StandardScaler\n",
    "from sklearn.preprocessing import OneHotEncoder\n",
    "\n",
    "from sklearn.feature_selection import SelectKBest, chi2\n",
    "from sklearn.ensemble import ExtraTreesClassifier\n",
    "\n",
    "from sklearn.model_selection import GridSearchCV\n",
    "\n",
    "\n",
    "#Зависимости для cnn\n",
    "import keras \n",
    "from keras.models import Sequential \n",
    "from keras.layers import Dense\n",
    "\n",
    "\n",
    "from sklearn.model_selection import cross_val_score\n",
    "from sklearn.model_selection import train_test_split\n",
    "from sklearn.metrics import confusion_matrix, classification_report, confusion_matrix, accuracy_score,f1_score,roc_curve"
   ]
  },
  {
   "cell_type": "code",
   "execution_count": 2,
   "metadata": {},
   "outputs": [],
   "source": [
    "\"\"\"\n",
    "ФУНКЦИЯ ДЛЯ ПРЕДИКТА\n",
    "\"\"\"\n",
    "def NN(data_path,weight_path):\n",
    "\n",
    "    #подгрузили датасет\n",
    "    df_features = pd.read_csv(data_path)\n",
    "    \n",
    "    #данные для cnn; теперь Х и У это нампи массивы\n",
    "    X = df_features.values \n",
    "  \n",
    "    #нормализация данных \n",
    "    sc = StandardScaler() \n",
    "    X = sc.fit_transform(X)\n",
    "\n",
    "    #создали модель и подгрузили веса для предикта\n",
    "    model2 = keras.models.load_model(weight_path)\n",
    "    #предикт\n",
    "    y_pred = model2.predict(X)\n",
    "    return y_pred"
   ]
  },
  {
   "cell_type": "code",
   "execution_count": 3,
   "metadata": {},
   "outputs": [],
   "source": [
    "\"\"\"\n",
    "ФУНКЦИЯ ДЛЯ ПОДСЧЕТА ТОЧНОСТИ И Ф-МЕРЫ\n",
    "\"\"\"\n",
    "def features_accuracy_and_f1(pred, etalon_path):\n",
    "\n",
    "    df_classes = pd.read_csv(etalon_path)\n",
    "    Y = df_classes.values\n",
    "    ohe = OneHotEncoder()\n",
    "    y = ohe.fit_transform(Y).toarray()\n",
    "\n",
    "    pred2 = list()\n",
    "    for i in range(len(pred)):\n",
    "        pred2.append(np.argmax(pred[i]))\n",
    "    #Converting one hot encoded test label to label\n",
    "    test2 = list()\n",
    "    for i in range(len(y)):\n",
    "        test2.append(np.argmax(y[i]))\n",
    "\n",
    "\n",
    "    #Точность модели и ф-мера\n",
    "    a2 = accuracy_score(pred2,test2)\n",
    "    print('Accuracy is:', a2*100)\n",
    "    f1_mera_nn2 = f1_score(pred2, test2)\n",
    "    print('Значение F-меры нейросети:', f1_mera_nn2)\n",
    "    "
   ]
  },
  {
   "cell_type": "code",
   "execution_count": 5,
   "metadata": {},
   "outputs": [
    {
     "name": "stdout",
     "output_type": "stream",
     "text": [
      "75/75 [==============================] - 0s 427us/step\n",
      "Accuracy is: 99.625\n",
      "Значение F-меры нейросети: 0.9925187032418954\n"
     ]
    }
   ],
   "source": [
    "#указать путь к 2м цсв файлам и до весов\n",
    "y_pred = NN(\"./data/features_train.csv\",'./keras_model_nn1.h5')\n",
    "features_accuracy_and_f1(y_pred,'./data/classes_train.csv')"
   ]
  },
  {
   "cell_type": "code",
   "execution_count": null,
   "metadata": {},
   "outputs": [],
   "source": []
  }
 ],
 "metadata": {
  "kernelspec": {
   "display_name": "Python 3.10.6 64-bit",
   "language": "python",
   "name": "python3"
  },
  "language_info": {
   "codemirror_mode": {
    "name": "ipython",
    "version": 3
   },
   "file_extension": ".py",
   "mimetype": "text/x-python",
   "name": "python",
   "nbconvert_exporter": "python",
   "pygments_lexer": "ipython3",
   "version": "3.10.6"
  },
  "orig_nbformat": 4,
  "vscode": {
   "interpreter": {
    "hash": "916dbcbb3f70747c44a77c7bcd40155683ae19c65e1c03b4aa3499c5328201f1"
   }
  }
 },
 "nbformat": 4,
 "nbformat_minor": 2
}
